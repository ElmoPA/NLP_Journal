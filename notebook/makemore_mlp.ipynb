{
 "cells": [
  {
   "cell_type": "code",
   "execution_count": 1,
   "id": "193fb56c-014c-408b-a60f-4d532b2df9bb",
   "metadata": {},
   "outputs": [],
   "source": [
    "import torch\n",
    "import torch.nn.functional as F\n",
    "import matplotlib.pyplot as plt\n",
    "import numpy as np\n",
    "%matplotlib inline"
   ]
  },
  {
   "cell_type": "code",
   "execution_count": 2,
   "id": "8baefed2-1dd6-426f-a255-dd9782bfe1e2",
   "metadata": {},
   "outputs": [],
   "source": [
    "words = open('names.txt', 'r').read().splitlines()"
   ]
  },
  {
   "cell_type": "code",
   "execution_count": 3,
   "id": "8357e734-148a-4a19-8657-1b4611f609e3",
   "metadata": {},
   "outputs": [
    {
     "data": {
      "text/plain": [
       "['emma', 'olivia', 'ava', 'isabella', 'sophia', 'charlotte', 'mia', 'amelia']"
      ]
     },
     "execution_count": 3,
     "metadata": {},
     "output_type": "execute_result"
    }
   ],
   "source": [
    "words[:8]"
   ]
  },
  {
   "cell_type": "code",
   "execution_count": 4,
   "id": "0b15df5f-b9f5-44e1-aa7a-3f676c44877d",
   "metadata": {},
   "outputs": [
    {
     "name": "stdout",
     "output_type": "stream",
     "text": [
      "{1: 'a', 2: 'b', 3: 'c', 4: 'd', 5: 'e', 6: 'f', 7: 'g', 8: 'h', 9: 'i', 10: 'j', 11: 'k', 12: 'l', 13: 'm', 14: 'n', 15: 'o', 16: 'p', 17: 'q', 18: 'r', 19: 's', 20: 't', 21: 'u', 22: 'v', 23: 'w', 24: 'x', 25: 'y', 26: 'z', 0: '.'}\n"
     ]
    }
   ],
   "source": [
    "chars = sorted(list(set(''.join(words))))\n",
    "stoi = {s:i+1 for i, s in enumerate(chars)}\n",
    "stoi['.'] = 0\n",
    "itos = {i: s for s,i in stoi.items()}\n",
    "print(itos)"
   ]
  },
  {
   "cell_type": "code",
   "execution_count": 5,
   "id": "68975ff1-5bf1-4b7a-8c06-9e666ea472dc",
   "metadata": {},
   "outputs": [],
   "source": [
    "block_size = 3\n",
    "def build_dataset(words):\n",
    "    X, Y = [], []\n",
    "    for w in words:\n",
    "    \n",
    "        context = [0] * block_size\n",
    "        for ch in w + '.':\n",
    "            ix = stoi[ch]\n",
    "            X.append(context)\n",
    "            Y.append(ix)\n",
    "            #print(''.join(itos[i] for i in context), '--->', itos[ix])\n",
    "            context = context[1:] + [ix]\n",
    "    \n",
    "    X = torch.tensor(X)\n",
    "    Y = torch.tensor(Y)\n",
    "    return X, Y\n",
    "\n",
    "import random\n",
    "random.shuffle(words)\n",
    "n1 = int(0.8*len(words))\n",
    "n2 = int(0.9*len(words))\n",
    "\n",
    "Xtr, Ytr = build_dataset(words[:n1])\n",
    "Xdev, Ydev = build_dataset(words[n1:n2])\n",
    "Xte, Yte = build_dataset(words[n2:])"
   ]
  },
  {
   "cell_type": "code",
   "execution_count": 6,
   "id": "4ec17962-e5d2-4606-8421-1c65a5448397",
   "metadata": {},
   "outputs": [],
   "source": [
    "n_emd = 10\n",
    "n_hidden = 200\n",
    "vocab_size = 27\n",
    "\n",
    "C = torch.randn((vocab_size, n_emd))\n",
    "W1 = torch.randn((n_emd * block_size, n_hidden)) * (5/3) / ((n_emd * block_size)**0.5)\n",
    "#b1 = torch.randn(n_hidden) * 0.01\n",
    "W2 = torch.randn((n_hidden, vocab_size)) * 0.1\n",
    "b2 = torch.randn(vocab_size) * 0\n",
    "\n",
    "bngain = torch.ones((1,n_hidden))\n",
    "bnbias = torch.zeros((1, n_hidden))\n",
    "bnmean_running = torch.ones((1, n_hidden))\n",
    "bnstd_running = torch.zeros((1, n_hidden))\n",
    "parameters = [C, W1, W2, b2, bngain, bnbias]\n",
    "\n",
    "\n",
    "for p in parameters:\n",
    "    p.requires_grad = True"
   ]
  },
  {
   "cell_type": "code",
   "execution_count": 7,
   "id": "8933b92c-dfa9-4286-9b9e-3891021a9759",
   "metadata": {},
   "outputs": [
    {
     "data": {
      "text/plain": [
       "12097"
      ]
     },
     "execution_count": 7,
     "metadata": {},
     "output_type": "execute_result"
    }
   ],
   "source": [
    "sum(p.nelement() for p in parameters)"
   ]
  },
  {
   "cell_type": "code",
   "execution_count": 8,
   "id": "f0584e98-af24-48d5-817a-1afe2adb118a",
   "metadata": {},
   "outputs": [
    {
     "data": {
      "text/plain": [
       "0.3042903097250923"
      ]
     },
     "execution_count": 8,
     "metadata": {},
     "output_type": "execute_result"
    }
   ],
   "source": [
    "(5/3) / (30**0.5)"
   ]
  },
  {
   "cell_type": "code",
   "execution_count": 10,
   "id": "bff3ee2e-1e60-4035-9c7d-e2bbb309c08a",
   "metadata": {},
   "outputs": [
    {
     "name": "stdout",
     "output_type": "stream",
     "text": [
      "tensor(-0.0116) tensor(0.9940)\n",
      "tensor(-0.0005) tensor(0.9711)\n"
     ]
    },
    {
     "data": {
      "image/png": "[encoded data removed]",
      "text/plain": [
       "<Figure size 2000x500 with 2 Axes>"
      ]
     },
     "metadata": {},
     "output_type": "display_data"
    }
   ],
   "source": [
    "x = torch.randn(1000, 10)\n",
    "w = torch.randn(10, 200) / 10**0.5\n",
    "y = x @ w\n",
    "print(x.mean(), x.std())\n",
    "print(y.mean(), y.std())\n",
    "plt.figure(figsize=(20,5))\n",
    "plt.subplot(121);\n",
    "plt.hist(x.view(-1).tolist(), 50, density=True);\n",
    "plt.subplot(122);\n",
    "plt.hist(y.view(-1).tolist(), 50, density=True);"
   ]
  },
  {
   "cell_type": "code",
   "execution_count": 40,
   "id": "7754f3a2-d576-4eff-a4a4-1616abee61bf",
   "metadata": {},
   "outputs": [],
   "source": [
    "lre = torch.linspace(-3, 0, 1000)\n",
    "lrs = 10 **lre"
   ]
  },
  {
   "cell_type": "code",
   "execution_count": 41,
   "id": "74bcb4f3-f06e-47cf-9176-eadcec2d4e28",
   "metadata": {},
   "outputs": [],
   "source": [
    "lri = []\n",
    "lossi = []\n",
    "stepi = []"
   ]
  },
  {
   "cell_type": "code",
   "execution_count": 42,
   "id": "57afb2ef-4117-46fa-92c7-224052d0a876",
   "metadata": {},
   "outputs": [
    {
     "data": {
      "text/plain": [
       "torch.Size([1, 200])"
      ]
     },
     "execution_count": 42,
     "metadata": {},
     "output_type": "execute_result"
    }
   ],
   "source": [
    "hpreact.mean(0, keepdim=True).shape"
   ]
  },
  {
   "cell_type": "code",
   "execution_count": 43,
   "id": "1d8c6319-8b54-4c29-ad57-0cf75d835a5a",
   "metadata": {},
   "outputs": [
    {
     "data": {
      "text/plain": [
       "torch.Size([1, 200])"
      ]
     },
     "execution_count": 43,
     "metadata": {},
     "output_type": "execute_result"
    }
   ],
   "source": [
    "hpreact.std(0, keepdim=True).shape"
   ]
  },
  {
   "cell_type": "code",
   "execution_count": 44,
   "id": "ef10f4cf-9a17-4bb9-bca7-c3e6777fb2af",
   "metadata": {},
   "outputs": [
    {
     "name": "stdout",
     "output_type": "stream",
     "text": [
      "None\n"
     ]
    }
   ],
   "source": [
    "print(bngain.grad)"
   ]
  },
  {
   "cell_type": "code",
   "execution_count": 57,
   "id": "57cf8b6d-a662-48e7-a8cd-ac2f09da7979",
   "metadata": {
    "scrolled": true
   },
   "outputs": [
    {
     "name": "stdout",
     "output_type": "stream",
     "text": [
      "      0/  10000 4.039172\n",
      "   1000/  10000 2.583685\n",
      "   2000/  10000 2.350640\n",
      "   3000/  10000 2.359843\n",
      "   4000/  10000 2.519392\n",
      "   5000/  10000 2.162558\n",
      "   6000/  10000 2.366834\n",
      "   7000/  10000 2.415577\n",
      "   8000/  10000 2.152433\n",
      "   9000/  10000 2.091981\n",
      "0.31001004576683044\n"
     ]
    }
   ],
   "source": [
    "max_steps = 10000\n",
    "for i in range(max_steps):\n",
    "    # minibatch construct\n",
    "    ix = torch.randint(0, Xtr.shape[0], (64,))\n",
    "    \n",
    "    emb = C[Xtr[ix]]\n",
    "    hpreact = emb.view(-1, 30) @ W1\n",
    "    bnmeani= hpreact.mean(0, keepdim=True)\n",
    "    bnstdi = hpreact.mean(0, keepdim=True)\n",
    "    hpreact = bngain * (hpreact - bnstdi) / bnmeani + bnbias\n",
    "    h = torch.tanh(hpreact)\n",
    "    logits = h @ W2 + b2\n",
    "    # counts = logits.exp()\n",
    "    # prob = counts/counts.sum(1, keepdims=True)\n",
    "    # print(prob.shape)\n",
    "    # loss = -prob[Y].log().mean()\n",
    "    loss = F.cross_entropy(logits, Ytr[ix])\n",
    "\n",
    "    with torch.no_grad():\n",
    "        bnmean_running = 0.999*bnmean_running + 0.001* bnmeani\n",
    "        bnstd_running = 0.999*bnstd_running + 0.001* bnmeani\n",
    "    \n",
    "    for p in parameters:\n",
    "        p.grad = None\n",
    "    loss.backward()\n",
    "    for p in parameters:\n",
    "        p.data += -0.1 * p.grad\n",
    "    # lri.append(lre[i])\n",
    "    # lossi.append(loss.item())\n",
    "    if i % (1000) == 0:\n",
    "        print(f'{i:7d}/{max_steps:7d} {loss.item():4f}')\n",
    "    stepi.append(i)\n",
    "    lossi.append(loss.item())\n",
    "print(loss.log10().item())"
   ]
  },
  {
   "cell_type": "code",
   "execution_count": 46,
   "id": "d1401f6b-75ba-41c2-9e0e-b1d851eee311",
   "metadata": {},
   "outputs": [
    {
     "data": {
      "text/plain": [
       "(array([506., 470., 361., 322., 291., 294., 257., 254., 282., 236., 234.,\n",
       "        267., 252., 216., 231., 240., 192., 172., 194., 186., 212., 199.,\n",
       "        179., 182., 182., 196., 182., 184., 188., 186., 158., 185., 162.,\n",
       "        178., 201., 222., 217., 252., 242., 267., 285., 240., 286., 309.,\n",
       "        315., 293., 356., 344., 443., 498.]),\n",
       " array([-9.99913871e-01, -9.59920381e-01, -9.19926891e-01, -8.79933401e-01,\n",
       "        -8.39939911e-01, -7.99946421e-01, -7.59952931e-01, -7.19959441e-01,\n",
       "        -6.79965951e-01, -6.39972461e-01, -5.99978971e-01, -5.59985482e-01,\n",
       "        -5.19991992e-01, -4.79998502e-01, -4.40005012e-01, -4.00011522e-01,\n",
       "        -3.60018032e-01, -3.20024542e-01, -2.80031052e-01, -2.40037562e-01,\n",
       "        -2.00044072e-01, -1.60050582e-01, -1.20057092e-01, -8.00636017e-02,\n",
       "        -4.00701118e-02, -7.66217709e-05,  3.99168682e-02,  7.99103582e-02,\n",
       "         1.19903848e-01,  1.59897338e-01,  1.99890828e-01,  2.39884318e-01,\n",
       "         2.79877808e-01,  3.19871298e-01,  3.59864788e-01,  3.99858278e-01,\n",
       "         4.39851768e-01,  4.79845258e-01,  5.19838748e-01,  5.59832238e-01,\n",
       "         5.99825728e-01,  6.39819218e-01,  6.79812708e-01,  7.19806198e-01,\n",
       "         7.59799688e-01,  7.99793178e-01,  8.39786668e-01,  8.79780158e-01,\n",
       "         9.19773648e-01,  9.59767138e-01,  9.99760628e-01]),\n",
       " <BarContainer object of 50 artists>)"
      ]
     },
     "execution_count": 46,
     "metadata": {},
     "output_type": "execute_result"
    },
    {
     "data": {
      "image/png": "[encoded data removed]",
      "text/plain": [
       "<Figure size 640x480 with 1 Axes>"
      ]
     },
     "metadata": {},
     "output_type": "display_data"
    }
   ],
   "source": [
    "plt.hist(h.view(-1).tolist(), 50)"
   ]
  },
  {
   "cell_type": "code",
   "execution_count": 47,
   "id": "31d3b2a8-4ac8-4a7a-b531-c0cae3367fc9",
   "metadata": {},
   "outputs": [
    {
     "data": {
      "text/plain": [
       "<matplotlib.image.AxesImage at 0x1d94ae068d0>"
      ]
     },
     "execution_count": 47,
     "metadata": {},
     "output_type": "execute_result"
    },
    {
     "data": {
      "image/png": "[encoded data removed]",
      "text/plain": [
       "<Figure size 2000x1000 with 1 Axes>"
      ]
     },
     "metadata": {},
     "output_type": "display_data"
    }
   ],
   "source": [
    "plt.figure(figsize=(20, 10))\n",
    "plt.imshow(h.abs() > 0.99, cmap='gray', interpolation='nearest')"
   ]
  },
  {
   "cell_type": "code",
   "execution_count": null,
   "id": "42a5b695-b2d2-441c-8fa9-f00e7ec2b7fe",
   "metadata": {},
   "outputs": [],
   "source": [
    "# trainning split, dev/validation split, test split\n",
    "# 80%, 10%, 10%"
   ]
  },
  {
   "cell_type": "code",
   "execution_count": null,
   "id": "c316a35a-aeae-4454-8995-a54835dbb90f",
   "metadata": {},
   "outputs": [],
   "source": [
    "emb = C[Xdev]\n",
    "h = torch.tanh(emb.view(-1, 30) @ W1 + b1)\n",
    "logits = h @ W2 + b2\n",
    "loss = F.cross_entropy(logits, Ydev)\n",
    "loss"
   ]
  },
  {
   "cell_type": "code",
   "execution_count": null,
   "id": "497ce66b-4330-4c85-8468-4dd5e77aa9ef",
   "metadata": {},
   "outputs": [],
   "source": [
    "plt.plot(lossi)"
   ]
  },
  {
   "cell_type": "code",
   "execution_count": 49,
   "id": "961c784f-0012-4451-9815-7ebbcfb3b30c",
   "metadata": {},
   "outputs": [],
   "source": [
    "with torch.no_grad():\n",
    "\n",
    "    emb = C[Xtr]\n",
    "    embcat = emb.view(emb.shape[0], -1)\n",
    "    hpreact = embcat @ W1 + b1\n",
    "\n",
    "    bnmean = hpreact.mean(0, keepdim=True)\n",
    "    bnstd =hpreact.std(0, keepdim=True)\n"
   ]
  },
  {
   "cell_type": "code",
   "execution_count": 50,
   "id": "fa0f856d-e6f3-4e01-86dc-d92d04451962",
   "metadata": {},
   "outputs": [
    {
     "data": {
      "text/plain": [
       "torch.Size([1, 200])"
      ]
     },
     "execution_count": 50,
     "metadata": {},
     "output_type": "execute_result"
    }
   ],
   "source": [
    "bnmean.shape"
   ]
  },
  {
   "cell_type": "code",
   "execution_count": 58,
   "id": "da29272c-438e-432f-af5e-e172987194c2",
   "metadata": {},
   "outputs": [
    {
     "name": "stdout",
     "output_type": "stream",
     "text": [
      "train 2.2233221530914307\n",
      "test 2.2455482482910156\n"
     ]
    }
   ],
   "source": [
    "@torch.no_grad()\n",
    "def split_loss(split):\n",
    "    x, y = {\n",
    "        'train': (Xtr, Ytr),\n",
    "        'dev': (Xdev, Ydev),\n",
    "        'test': (Xte, Yte),\n",
    "    }[split]\n",
    "    emb = C[x]\n",
    "    hpreact = emb.view(-1, 30) @ W1 + b1\n",
    "    hpreact = bngain * (hpreact - bnmean_running) / bnstd_running + bnbias\n",
    "    h = torch.tanh(hpreact)\n",
    "    logits = h @ W2 + b2\n",
    "    loss = F.cross_entropy(logits, y)\n",
    "    print(split, loss.item())\n",
    "\n",
    "split_loss('train')\n",
    "split_loss('test')\n",
    "    "
   ]
  },
  {
   "cell_type": "code",
   "execution_count": null,
   "id": "27c944a6-dba5-4040-ac2a-c4387af65bb8",
   "metadata": {},
   "outputs": [],
   "source": [
    "plt.figure(figsize=(8,8))\n",
    "plt.scatter(C[:,0].data, C[:,1].data, s=200)\n",
    "for i in range(C.shape[0]):\n",
    "    plt.text(C[i,0].item(), C[i,1].item(), itos[i], ha=\"center\", va=\"center\", color='white')\n",
    "plt.grid('minor')"
   ]
  },
  {
   "cell_type": "code",
   "execution_count": null,
   "id": "0ffde189-577f-4cb3-8d6b-b3771ac8a053",
   "metadata": {},
   "outputs": [],
   "source": [
    "for _ in range(20):\n",
    "\n",
    "    out = []\n",
    "    context = [0] * 3\n",
    "    while(True):\n",
    "        emb = C[torch.tensor(context)]\n",
    "        h = torch.tanh(emb.view(1, -1) @ W1 + b1)\n",
    "        logits = h @ W2 + b2\n",
    "        probs = F.softmax(logits, dim=1)\n",
    "        ix = torch.multinomial(probs, num_samples=1).item()\n",
    "        context = context[1:] + [ix]\n",
    "        out.append(itos[ix])\n",
    "        if ix == 0:\n",
    "            break\n",
    "    print(''.join(out))\n",
    "print(C.shape)\n",
    "C[torch.tensor(context)].shape"
   ]
  },
  {
   "cell_type": "code",
   "execution_count": null,
   "id": "f1391623-f69d-41f5-92c5-86deec27ad5e",
   "metadata": {},
   "outputs": [],
   "source": []
  }
 ],
 "metadata": {
  "kernelspec": {
   "display_name": "Python 3 (ipykernel)",
   "language": "python",
   "name": "python3"
  },
  "language_info": {
   "codemirror_mode": {
    "name": "ipython",
    "version": 3
   },
   "file_extension": ".py",
   "mimetype": "text/x-python",
   "name": "python",
   "nbconvert_exporter": "python",
   "pygments_lexer": "ipython3",
   "version": "3.11.5"
  }
 },
 "nbformat": 4,
 "nbformat_minor": 5
}
